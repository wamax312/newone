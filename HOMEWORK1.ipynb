{
 "cells": [
  {
   "cell_type": "code",
   "execution_count": 5,
   "metadata": {},
   "outputs": [
    {
     "name": "stdout",
     "output_type": "stream",
     "text": [
      "★★★★★★★★★★★\n",
      "★数据科学与工程导论★\n",
      "★★★★★★★★★★★\n"
     ]
    }
   ],
   "source": [
    "star = chr(0x2605)\n",
    "text = \"数据科学与工程导论\"\n",
    "\n",
    "width = len(text) + 2 \n",
    "print(star * width)\n",
    "\n",
    "print(star +  text +  star)\n",
    "print(star * width)"
   ]
  },
  {
   "cell_type": "code",
   "execution_count": 8,
   "metadata": {},
   "outputs": [
    {
     "name": "stdout",
     "output_type": "stream",
     "text": [
      "order:1 3 8\n"
     ]
    }
   ],
   "source": [
    "x = int(input('x:'))\n",
    "y = int(input('y:'))\n",
    "z = int(input('z:'))\n",
    "min = x\n",
    "mid = y\n",
    "max = z\n",
    "if (x > y):\n",
    "    temp = y\n",
    "    y = x\n",
    "    x = temp\n",
    "if (x > z):\n",
    "    temp = z\n",
    "    z = x\n",
    "    x = temp\n",
    "if (y > z):\n",
    "    temp = y\n",
    "    y = z\n",
    "    z = temp0\n",
    "print('order:' + str(x) + ' ' + str(y) + ' ' + str(z))\n"
   ]
  },
  {
   "cell_type": "code",
   "execution_count": 11,
   "metadata": {},
   "outputs": [
    {
     "name": "stdout",
     "output_type": "stream",
     "text": [
      "The order from small to big: \n",
      "9\n",
      "4\n",
      "2\n",
      "1\n"
     ]
    }
   ],
   "source": [
    "order = []\n",
    "for i in range(0, 4):\n",
    "    x = int(input('Number: '))\n",
    "    order.append(x)\n",
    "order.sort()\n",
    "order.reverse()\n",
    "print('The order from small to big: ')\n",
    "for j in order:\n",
    "    print(j)\n"
   ]
  },
  {
   "cell_type": "code",
   "execution_count": 13,
   "metadata": {},
   "outputs": [
    {
     "name": "stdout",
     "output_type": "stream",
     "text": [
      "1\n",
      "3\n",
      "5\n",
      "7\n",
      "9\n",
      "11\n",
      "13\n",
      "15\n",
      "17\n",
      "19\n",
      "21\n",
      "23\n",
      "25\n",
      "27\n",
      "29\n",
      "31\n",
      "33\n",
      "35\n",
      "37\n",
      "39\n",
      "41\n",
      "43\n",
      "45\n",
      "47\n",
      "49\n",
      "51\n",
      "53\n",
      "55\n",
      "57\n",
      "59\n",
      "61\n",
      "63\n",
      "65\n",
      "67\n",
      "69\n",
      "71\n",
      "73\n",
      "75\n",
      "77\n",
      "79\n",
      "81\n",
      "83\n",
      "85\n",
      "87\n",
      "89\n",
      "91\n",
      "93\n",
      "95\n",
      "97\n",
      "99\n"
     ]
    }
   ],
   "source": [
    "i=1\n",
    "for i in range(100):\n",
    "    if i%2==0: \n",
    "    \n",
    "        i+1\n",
    "    else:\n",
    "        print(i)\n"
   ]
  },
  {
   "cell_type": "code",
   "execution_count": 15,
   "metadata": {},
   "outputs": [
    {
     "name": "stdout",
     "output_type": "stream",
     "text": [
      "5050\n"
     ]
    }
   ],
   "source": [
    "i=1\n",
    "d=0\n",
    "for i in range(101):\n",
    "    d=i+d\n",
    "print(d)"
   ]
  },
  {
   "cell_type": "code",
   "execution_count": 10,
   "metadata": {},
   "outputs": [
    {
     "name": "stdout",
     "output_type": "stream",
     "text": [
      "[5, 4, 3, 2, 1]\n",
      "[5, 4, 3, 2, 1]\n"
     ]
    }
   ],
   "source": [
    "\n",
    "list = [1, 2, 3, 4, 5]\n",
    "\n",
    "\n",
    "final = []\n",
    "\n",
    "\n",
    "for item in list:\n",
    "    final.insert(0, item)\n",
    "\n",
    "\n",
    "print(final)  \n",
    "\n",
    "L = [1, 2, 3, 4, 5]\n",
    "\n",
    "F = []\n",
    "index = len(L) - 1 \n",
    "while index >= 0:\n",
    "    F.append(L[index]) \n",
    "    index -= 1  \n",
    "print(F)\n"
   ]
  },
  {
   "cell_type": "code",
   "execution_count": 13,
   "metadata": {},
   "outputs": [
    {
     "name": "stdout",
     "output_type": "stream",
     "text": [
      "字符串包含由两个或两个以上连续出现的相同字符组成的子串。\n"
     ]
    }
   ],
   "source": [
    "def counting(s):\n",
    "    count = 1\n",
    "    \n",
    "    for i in range(1, len(s)):\n",
    "        if s[i] == s[i - 1]:\n",
    "            count += 1\n",
    "            if count >= 2: \n",
    "                return True\n",
    "        else:\n",
    "            count = 1\n",
    "    \n",
    "    return False \n",
    "\n",
    "\n",
    "string = input()\n",
    "if counting(string):\n",
    "    print(\"字符串包含由两个或两个以上连续出现的相同字符组成的子串。\")\n",
    "else:\n",
    "    print(\"字符串不包含这样的子串。\")\n"
   ]
  },
  {
   "cell_type": "code",
   "execution_count": 15,
   "metadata": {},
   "outputs": [
    {
     "name": "stdout",
     "output_type": "stream",
     "text": [
      "去掉空格后的字符串: DataScienceandEngineering\n"
     ]
    }
   ],
   "source": [
    "def remove(s):\n",
    "    \n",
    "    return s.replace(\" \", \"\")\n",
    "\n",
    "# 输入字符串\n",
    "string = input(\"请输入字符串: \")\n",
    "output = remove(string)\n",
    "print(\"去掉空格后的字符串:\", output)\n"
   ]
  },
  {
   "cell_type": "code",
   "execution_count": 20,
   "metadata": {},
   "outputs": [
    {
     "name": "stdout",
     "output_type": "stream",
     "text": [
      "三次方根是 9.0000000\n"
     ]
    }
   ],
   "source": [
    "def lifanggen(a, tolerance=1e-7, max_iterations=1000):\n",
    "    \n",
    "    x_n = a / 2.0 if a != 0 else 0.0  \n",
    "    \n",
    "    for iteration in range(max_iterations):\n",
    "        f_x_n = x_n**3 - a\n",
    "        f_prime_x_n = 3 * x_n**2\n",
    "        \n",
    "        x_n1 = x_n - f_x_n / f_prime_x_n\n",
    "        \n",
    "        if abs(x_n1 - x_n) < tolerance:\n",
    "            return x_n1\n",
    "        \n",
    "        x_n = x_n1\n",
    "    \n",
    "    return x_n\n",
    "\n",
    "\n",
    "a =729\n",
    "result = lifanggen(a)\n",
    "print(f\"三次方根是 {result:.7f}\")\n"
   ]
  },
  {
   "cell_type": "code",
   "execution_count": 23,
   "metadata": {},
   "outputs": [
    {
     "name": "stdout",
     "output_type": "stream",
     "text": [
      "3! = 6\n"
     ]
    }
   ],
   "source": [
    "def jiecheng(n):\n",
    "    if n < 0:\n",
    "        return \"n must be a non-negative integer.\"\n",
    "    elif n == 0 or n == 1:\n",
    "        return 1\n",
    "    else:\n",
    "        result = 1\n",
    "        for i in range(2, n + 1):\n",
    "            result *= i\n",
    "        return result\n",
    "\n",
    "\n",
    "n = int(input(\"请输入一个正整数 n (n > 0): \"))\n",
    "if n > 0:\n",
    "    result = jiecheng(n)\n",
    "    print(f\"{n}! = {result}\")\n",
    "else:\n",
    "    print(\"输入错误，请输入一个大于0的正整数。\")\n"
   ]
  }
 ],
 "metadata": {
  "kernelspec": {
   "display_name": "Python 3",
   "language": "python",
   "name": "python3"
  },
  "language_info": {
   "codemirror_mode": {
    "name": "ipython",
    "version": 3
   },
   "file_extension": ".py",
   "mimetype": "text/x-python",
   "name": "python",
   "nbconvert_exporter": "python",
   "pygments_lexer": "ipython3",
   "version": "3.12.2"
  }
 },
 "nbformat": 4,
 "nbformat_minor": 2
}
