{
 "cells": [
  {
   "cell_type": "code",
   "execution_count": 27,
   "metadata": {},
   "outputs": [
    {
     "name": "stdout",
     "output_type": "stream",
     "text": [
      "4 是质数: False\n"
     ]
    }
   ],
   "source": [
    "def zhishu(a):\n",
    "    if a <= 1:\n",
    "        return False\n",
    "    for i in range(2, int(a**0.5) + 1):\n",
    "        if a % i == 0:\n",
    "            return False\n",
    "    return True\n",
    "\n",
    "\n",
    "a = int(input(\"请输入一个数字: \"))\n",
    "print(f\"{a} 是质数: {zhishu(a)}\")"
   ]
  },
  {
   "cell_type": "code",
   "execution_count": 28,
   "metadata": {},
   "outputs": [
    {
     "name": "stdout",
     "output_type": "stream",
     "text": [
      "排序后的数组: [5, 6, 11, 12, 13]\n"
     ]
    }
   ],
   "source": [
    "def charu(arr):\n",
    "    for i in range(1, len(arr)):\n",
    "        key = arr[i]\n",
    "        j = i - 1\n",
    "        while j >= 0 and arr[j] > key:\n",
    "            arr[j + 1] = arr[j]\n",
    "            j -= 1\n",
    "        arr[j + 1] = key\n",
    "    return arr\n",
    "\n",
    "\n",
    "arr = [12, 11, 13, 5, 6]\n",
    "print(\"排序后的数组:\", charu(arr))\n"
   ]
  },
  {
   "cell_type": "code",
   "execution_count": 6,
   "metadata": {},
   "outputs": [
    {
     "name": "stdout",
     "output_type": "stream",
     "text": [
      "排序后的数组: [11, 12, 22, 25, 64]\n"
     ]
    }
   ],
   "source": [
    "def select(arr):\n",
    "    for i in range(len(arr)):\n",
    "        min_idx = i\n",
    "        for j in range(i + 1, len(arr)):\n",
    "            if arr[j] < arr[min_idx]:\n",
    "                min_idx = j\n",
    "        arr[i], arr[min_idx] = arr[min_idx], arr[i]\n",
    "    return arr\n",
    "\n",
    "\n",
    "arr = [64, 25, 12, 22, 11]\n",
    "print(\"排序后的数组:\", select(arr))\n"
   ]
  },
  {
   "cell_type": "code",
   "execution_count": 7,
   "metadata": {},
   "outputs": [
    {
     "name": "stdout",
     "output_type": "stream",
     "text": [
      "排序后的数组: [1, 1, 2, 3, 6, 8, 10]\n"
     ]
    }
   ],
   "source": [
    "def quicksort(arr):\n",
    "    if len(arr) <= 1:\n",
    "        return arr\n",
    "    pivot = arr[len(arr) // 2]\n",
    "    left = [x for x in arr if x < pivot]\n",
    "    middle = [x for x in arr if x == pivot]\n",
    "    right = [x for x in arr if x > pivot]\n",
    "    return quicksort(left) + middle + quicksort(right)\n",
    "\n",
    "\n",
    "arr = [3, 6, 8, 10, 1, 2, 1]\n",
    "print(\"排序后的数组:\", quicksort(arr))\n"
   ]
  },
  {
   "cell_type": "code",
   "execution_count": 31,
   "metadata": {},
   "outputs": [
    {
     "name": "stdout",
     "output_type": "stream",
     "text": [
      "插入排序 100 个元素的时间: 0.0 秒\n",
      "选择排序 100 个元素的时间: 0.0 秒\n",
      "归并排序 100 个元素的时间: 0.0 秒\n",
      "插入排序 1000 个元素的时间: 0.015462160110473633 秒\n",
      "选择排序 1000 个元素的时间: 0.019160985946655273 秒\n",
      "归并排序 1000 个元素的时间: 0.003612518310546875 秒\n",
      "插入排序 10000 个元素的时间: 2.1169450283050537 秒\n",
      "选择排序 10000 个元素的时间: 2.1373414993286133 秒\n",
      "归并排序 10000 个元素的时间: 0.020152807235717773 秒\n"
     ]
    }
   ],
   "source": [
    "import random\n",
    "import time\n",
    "\n",
    "\n",
    "arr1 = [random.randint(0, 1000) for _ in range(100)]\n",
    "arr2 = [random.randint(0, 1000) for _ in range(1000)]\n",
    "arr3 = [random.randint(0, 1000) for _ in range(10000)]\n",
    "\n",
    "\n",
    "def merge_sort(arr):\n",
    "    if len(arr) > 1:\n",
    "        mid = len(arr) // 2\n",
    "        L = arr[:mid]\n",
    "        R = arr[mid:]\n",
    "\n",
    "        merge_sort(L)\n",
    "        merge_sort(R)\n",
    "\n",
    "        i = j = k = 0\n",
    "        while i < len(L) and j < len(R):\n",
    "            if L[i] < R[j]:\n",
    "                arr[k] = L[i]\n",
    "                i += 1\n",
    "            else:\n",
    "                arr[k] = R[j]\n",
    "                j += 1\n",
    "            k += 1\n",
    "\n",
    "        while i < len(L):\n",
    "            arr[k] = L[i]\n",
    "            i += 1\n",
    "            k += 1\n",
    "\n",
    "        while j < len(R):\n",
    "            arr[k] = R[j]\n",
    "            j += 1\n",
    "            k += 1\n",
    "    return arr\n",
    "\n",
    "def time_sort(sort_function, arr):\n",
    "    start_time = time.time()\n",
    "    sort_function(arr.copy())\n",
    "    return time.time() - start_time\n",
    "\n",
    "\n",
    "print(f\"插入排序 100 个元素的时间: {time_sort(insertion_sort, arr1)} 秒\")  # Insertion sort time for 100 elements:\n",
    "print(f\"选择排序 100 个元素的时间: {time_sort(selection_sort, arr1)} 秒\")  # Selection sort time for 100 elements:\n",
    "print(f\"归并排序 100 个元素的时间: {time_sort(merge_sort, arr1)} 秒\")  # Merge sort time for 100 elements:\n",
    "print(f\"插入排序 1000 个元素的时间: {time_sort(insertion_sort, arr2)} 秒\")  # Insertion sort time for 1000 elements:\n",
    "print(f\"选择排序 1000 个元素的时间: {time_sort(selection_sort, arr2)} 秒\")  # Selection sort time for 1000 elements:\n",
    "print(f\"归并排序 1000 个元素的时间: {time_sort(merge_sort, arr2)} 秒\")  # Merge sort time for 1000 elements:\n",
    "print(f\"插入排序 10000 个元素的时间: {time_sort(insertion_sort, arr3)} 秒\")  # Insertion sort time for 10000 elements:\n",
    "print(f\"选择排序 10000 个元素的时间: {time_sort(selection_sort, arr3)} 秒\")  # Selection sort time for 10000 elements:\n",
    "print(f\"归并排序 10000 个元素的时间: {time_sort(merge_sort, arr3)} 秒\")  # Merge sort time for 10000 elements:\n"
   ]
  },
  {
   "cell_type": "code",
   "execution_count": 15,
   "metadata": {},
   "outputs": [
    {
     "name": "stdout",
     "output_type": "stream",
     "text": [
      "当前系统时间: 2024-10-15 15:11:00.927878\n"
     ]
    }
   ],
   "source": [
    "from datetime import datetime\n",
    "\n",
    "current_time = datetime.now()\n",
    "print(\"当前系统时间:\", current_time)  "
   ]
  },
  {
   "cell_type": "code",
   "execution_count": 32,
   "metadata": {},
   "outputs": [
    {
     "name": "stdout",
     "output_type": "stream",
     "text": [
      "语文平均成绩: 82.6\n",
      "数学平均成绩: 81.0\n",
      "英语平均成绩: 81.8\n"
     ]
    }
   ],
   "source": [
    "import csv\n",
    "\n",
    "def pingjun(file_path='stuGrade.csv'):\n",
    "    with open(file_path, 'r', encoding='utf-8') as file:\n",
    "        reader = csv.DictReader(file)\n",
    "        chinese_scores = []\n",
    "        math_scores = []\n",
    "        english_scores = [] \n",
    "        \n",
    "        for row in reader:\n",
    "            chinese_scores.append(float(row['chinese']))\n",
    "            math_scores.append(float(row['math']))\n",
    "            english_scores.append(float(row['english']))\n",
    "        \n",
    "        chinese_avg = sum(chinese_scores) / len(chinese_scores)\n",
    "        math_avg = sum(math_scores) / len(math_scores)\n",
    "        english_avg = sum(english_scores) / len(english_scores)\n",
    "        \n",
    "        return round(chinese_avg, 2), round(math_avg, 2), round(english_avg, 2)\n",
    "\n",
    "\n",
    "chinese_avg, math_avg, english_avg = pingjun('stuGrade.csv')\n",
    "print(f\"语文平均成绩: {chinese_avg}\") \n",
    "print(f\"数学平均成绩: {math_avg}\") \n",
    "print(f\"英语平均成绩: {english_avg}\") "
   ]
  },
  {
   "cell_type": "code",
   "execution_count": 33,
   "metadata": {},
   "outputs": [
    {
     "name": "stdout",
     "output_type": "stream",
     "text": [
      "my.txt 文件已生成。\n"
     ]
    }
   ],
   "source": [
    "import time\n",
    "\n",
    "# 将内容写入 my.txt 文件\n",
    "def write_to_txt(file_path, student_id, name, averages):\n",
    "    # 获取系统当前时间，并格式化为字符串\n",
    "    current_time = time.strftime('%Y-%m-%d %H:%M:%S')\n",
    "\n",
    "    # 等待2秒，再获取两秒后的系统时间\n",
    "    time.sleep(2)\n",
    "    future_time = time.strftime('%Y-%m-%d %H:%M:%S')\n",
    "\n",
    "    # 构造写入内容\n",
    "    content = [\n",
    "        f\"{student_id},{name}\",\n",
    "        f\"{averages[0]},{averages[1]},{averages[2]}\",\n",
    "        current_time,\n",
    "        future_time\n",
    "    ]\n",
    "\n",
    "    # 将内容逐行写入文件\n",
    "    with open(file_path, 'w', encoding='utf-8') as f:\n",
    "        for line in content:\n",
    "            f.write(line + '\\n')\n",
    "\n",
    "# 主程序\n",
    "if __name__ == '__main__':\n",
    "    # 从第七题获取的平均成绩\n",
    "    chinese_avg, math_avg, english_avg = pingjun('stuGrade.csv')\n",
    "\n",
    "    # 学生信息\n",
    "    student_id = '20230001'\n",
    "    name = '张三'\n",
    "    averages = (chinese_avg, math_avg, english_avg)\n",
    "\n",
    "    # 输出文件路径\n",
    "    txt_file = 'my.txt'\n",
    "    \n",
    "    # 写入内容到 my.txt\n",
    "    write_to_txt(txt_file, student_id, name, averages)\n",
    "\n",
    "    print(\"my.txt 文件已生成。\")\n"
   ]
  }
 ],
 "metadata": {
  "kernelspec": {
   "display_name": "Python 3",
   "language": "python",
   "name": "python3"
  },
  "language_info": {
   "codemirror_mode": {
    "name": "ipython",
    "version": 3
   },
   "file_extension": ".py",
   "mimetype": "text/x-python",
   "name": "python",
   "nbconvert_exporter": "python",
   "pygments_lexer": "ipython3",
   "version": "3.12.2"
  }
 },
 "nbformat": 4,
 "nbformat_minor": 2
}
