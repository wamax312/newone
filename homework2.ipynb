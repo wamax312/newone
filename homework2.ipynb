{
 "cells": [
  {
   "cell_type": "code",
   "execution_count": 2,
   "metadata": {},
   "outputs": [
    {
     "name": "stdout",
     "output_type": "stream",
     "text": [
      "20 和 10 的最大公约数是: 10\n"
     ]
    }
   ],
   "source": [
    "def gcd(a, b):\n",
    "    while b != 0:\n",
    "        a, b = b, a % b\n",
    "    return a\n",
    "\n",
    "\n",
    "num1 = int(input(\"第一个正整数: \"))\n",
    "num2 = int(input(\"第二个正整数: \"))\n",
    "print(f\"{num1} 和 {num2} 的最大公约数是: {gcd(num1, num2)}\")"
   ]
  },
  {
   "cell_type": "code",
   "execution_count": 3,
   "metadata": {},
   "outputs": [
    {
     "name": "stdout",
     "output_type": "stream",
     "text": [
      "成绩 78.0 对应的等级是: 良好\n"
     ]
    }
   ],
   "source": [
    "def score_to_grade(score):\n",
    "    if score < 60:\n",
    "        return \"不合格\"\n",
    "    elif 60 <= score <= 74:\n",
    "        return \"合格\"\n",
    "    elif 75 <= score <= 89:\n",
    "        return \"良好\"\n",
    "    elif score >= 90:\n",
    "        return \"优秀\"\n",
    "    else:\n",
    "        return \"输入错误\"\n",
    "\n",
    "\n",
    "score = float(input(\"考试成绩: \"))\n",
    "print(f\"成绩 {score} 对应的等级是: {score_to_grade(score)}\")"
   ]
  },
  {
   "cell_type": "code",
   "execution_count": 7,
   "metadata": {},
   "outputs": [
    {
     "name": "stdout",
     "output_type": "stream",
     "text": [
      "十进制数 3.5 转换为二进制是: 11.1\n"
     ]
    }
   ],
   "source": [
    "def decimal_to_binary(decimal, precision=10):\n",
    "    \n",
    "    integer_part = int(decimal)\n",
    "    fractional_part = decimal - integer_part\n",
    "    \n",
    "    \n",
    "    binary_integer = bin(integer_part)[2:]  # 使用内置函数bin()并去掉前缀'0b'\n",
    "    \n",
    "    \n",
    "    binary_fraction = []\n",
    "    while fractional_part > 0 and len(binary_fraction) < precision:\n",
    "        fractional_part *= 2\n",
    "        bit = int(fractional_part)\n",
    "        binary_fraction.append(str(bit))\n",
    "        fractional_part -= bit\n",
    "    \n",
    "    \n",
    "    binary = binary_integer + '.' + ''.join(binary_fraction)\n",
    "    return binary\n",
    "\n",
    "\n",
    "decimal = float(input(\"十进制小数: \"))\n",
    "binary = decimal_to_binary(decimal)\n",
    "print(f\"十进制数 {decimal} 转换为二进制是: {binary}\")"
   ]
  },
  {
   "cell_type": "code",
   "execution_count": 10,
   "metadata": {},
   "outputs": [
    {
     "name": "stdout",
     "output_type": "stream",
     "text": [
      "生成的随机浮点数是: 15.311666939984487\n"
     ]
    }
   ],
   "source": [
    "import random\n",
    "\n",
    "def generate_random_float():\n",
    "    return random.uniform(10, 20)\n",
    "\n",
    "\n",
    "random_float = generate_random_float()\n",
    "print(f\"生成的随机浮点数是: {random_float}\")"
   ]
  },
  {
   "cell_type": "code",
   "execution_count": 12,
   "metadata": {},
   "outputs": [
    {
     "name": "stdout",
     "output_type": "stream",
     "text": [
      "1223311 是否是回文数: False\n"
     ]
    }
   ],
   "source": [
    "def is_palindrome(num):\n",
    "    return str(num) == str(num)[::-1]\n",
    "\n",
    "\n",
    "number = int(input(\"请输入一个整数: \"))\n",
    "print(f\"{number} 是否是回文数: {is_palindrome(number)}\")"
   ]
  },
  {
   "cell_type": "code",
   "execution_count": 13,
   "metadata": {},
   "outputs": [
    {
     "name": "stdout",
     "output_type": "stream",
     "text": [
      "斐波那契数列的前 12 个数是: [0, 1, 1, 2, 3, 5, 8, 13, 21, 34, 55, 89]\n"
     ]
    }
   ],
   "source": [
    "def fibonacci(n):\n",
    "    if n <= 0:\n",
    "        return []\n",
    "    elif n == 1:\n",
    "        return [0]\n",
    "    elif n == 2:\n",
    "        return [0, 1]\n",
    "    \n",
    "    fib_sequence = [0, 1]\n",
    "    for i in range(2, n):\n",
    "        next_value = fib_sequence[-1] + fib_sequence[-2]\n",
    "        fib_sequence.append(next_value)\n",
    "    \n",
    "    return fib_sequence\n",
    "\n",
    "\n",
    "n = int(input(\"长度: \"))\n",
    "print(f\"斐波那契数列的前 {n} 个数是: {fibonacci(n)}\")"
   ]
  },
  {
   "cell_type": "code",
   "execution_count": 15,
   "metadata": {},
   "outputs": [
    {
     "name": "stdout",
     "output_type": "stream",
     "text": [
      "数组中第二大的数是: 3\n"
     ]
    }
   ],
   "source": [
    "def second_largest(nums):\n",
    "    if len(nums) < 2:\n",
    "        return -1\n",
    "    \n",
    "    first, second = float('-inf'), float('-inf')\n",
    "    for num in nums:\n",
    "        if num > first:\n",
    "            first, second = num, first\n",
    "        elif first > num > second:\n",
    "            second = num\n",
    "    \n",
    "    return second if second != float('-inf') else -1\n",
    "\n",
    "\n",
    "nums = list(map(int, input(\"输入一个整数数组，用空格分隔: \").split()))\n",
    "print(f\"数组中第二大的数是: {second_largest(nums)}\")"
   ]
  },
  {
   "cell_type": "code",
   "execution_count": 17,
   "metadata": {},
   "outputs": [
    {
     "name": "stdout",
     "output_type": "stream",
     "text": [
      "010105199003071234 不是一个有效的身份证号。\n"
     ]
    }
   ],
   "source": [
    "import re\n",
    "\n",
    "def validate_id_card(id_card):\n",
    "    \n",
    "    pattern = r'^[1-9]\\d{5}(19|20)\\d{2}(0[1-9]|1[0-2])(0[1-9]|[1-2]\\d|3[0-1])\\d{3}(\\d|X|x)$'\n",
    "    \n",
    "    \n",
    "    if re.match(pattern, id_card):\n",
    "        return True\n",
    "    else:\n",
    "        return False\n",
    "\n",
    "\n",
    "id_card = input(\"请输入一个身份证号: \")\n",
    "if validate_id_card(id_card):\n",
    "    print(f\"{id_card} 是一个有效的身份证号。\")\n",
    "else:\n",
    "    print(f\"{id_card} 不是一个有效的身份证号。\")"
   ]
  }
 ],
 "metadata": {
  "kernelspec": {
   "display_name": "Python 3",
   "language": "python",
   "name": "python3"
  },
  "language_info": {
   "codemirror_mode": {
    "name": "ipython",
    "version": 3
   },
   "file_extension": ".py",
   "mimetype": "text/x-python",
   "name": "python",
   "nbconvert_exporter": "python",
   "pygments_lexer": "ipython3",
   "version": "3.12.2"
  }
 },
 "nbformat": 4,
 "nbformat_minor": 2
}
